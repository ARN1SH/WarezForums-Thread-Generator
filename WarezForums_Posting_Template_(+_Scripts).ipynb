{
  "nbformat": 4,
  "nbformat_minor": 0,
  "metadata": {
    "colab": {
      "name": "WarezForums Posting Template (+ Scripts)",
      "provenance": [],
      "collapsed_sections": [
        "IbBaIDl8hxH4",
        "8qgQqQyD3kvv",
        "tozwpAhhnm69"
      ],
      "toc_visible": true,
      "include_colab_link": true
    },
    "kernelspec": {
      "name": "python3",
      "display_name": "Python 3"
    },
    "accelerator": "TPU"
  },
  "cells": [
    {
      "cell_type": "markdown",
      "metadata": {
        "id": "view-in-github",
        "colab_type": "text"
      },
      "source": [
        "<a href=\"https://colab.research.google.com/github/yunooooo/Warez-Forums-Post-Template/blob/master/WarezForums_Posting_Template_(%2B_Scripts).ipynb\" target=\"_parent\"><img src=\"https://colab.research.google.com/assets/colab-badge.svg\" alt=\"Open In Colab\"/></a>"
      ]
    },
    {
      "cell_type": "code",
      "metadata": {
        "id": "3j-IAlGwZet3",
        "colab_type": "code",
        "cellView": "form",
        "colab": {}
      },
      "source": [
        "#@title <font size=\"5\">Install packages + Mount Google Drive</font> { vertical-output: true }\n",
        "from IPython.display import clear_output\n",
        "import os\n",
        "os.system('apt install mediainfo')\n",
        "os.system('pip install git+git://github.com/AWConant/jikanpy.git')\n",
        "clear_output(wait=True)\n",
        "print('Installation finished. Now mount your Google Drive.')\n",
        "from google.colab import drive\n",
        "drive.mount('/content/drive')\n",
        "clear_output(wait=True)\n",
        "print('Drive is mounted. Setup is completed.')"
      ],
      "execution_count": 0,
      "outputs": []
    },
    {
      "cell_type": "markdown",
      "metadata": {
        "id": "mWnbTzkzbcw-",
        "colab_type": "text"
      },
      "source": [
        "<font size=\"3\"><i>Generate your own OMDb API Key here: http://www.omdbapi.com/apikey.aspx</font>"
      ]
    },
    {
      "cell_type": "markdown",
      "metadata": {
        "id": "p-8c7KdYYnlC",
        "colab_type": "text"
      },
      "source": [
        "# <img src='https://i.imgur.com/N4bdPff.png' height=\"25\" alt=\"IMDB\"/> **Generate IMDB template**"
      ]
    },
    {
      "cell_type": "code",
      "metadata": {
        "id": "lk2eFQgwZQsb",
        "colab_type": "code",
        "cellView": "form",
        "colab": {}
      },
      "source": [
        "import urllib.request\n",
        "import json\n",
        "import re\n",
        "import requests\n",
        "import sys\n",
        "import subprocess\n",
        "import os\n",
        "import time\n",
        "from IPython.display import clear_output\n",
        "from bs4 import BeautifulSoup\n",
        "\n",
        "# Variables\n",
        "headers = {'User-Agent': 'Mozilla/5.0 (Macintosh; Intel Mac OS X 10.8; rv:21.0) Gecko/20100101 Firefox/21.0'}\n",
        "#@markdown <center><font size=\"6\" face=\"Montserrat\" color=\"#9FD4F3\">OMDb </font><font size=\"6\" face=\"Nunito\">API Key:</font></center>\n",
        "\n",
        "api_key = '' #@param {type:\"string\"}\n",
        "#@markdown \n",
        "\n",
        "#@markdown <center><font size=\"6\" face=\"Montserrat\" color=\"#F1F290\">IMDb</font><font size=\"6\" face=\"Nunito\"> URL <small>or</small> ID:</font></center>\n",
        "IMDB_URL_OR_ID = 'https://www.imdb.com/title/tt4972582/' #@param {type:\"string\"}\n",
        "#@markdown \n",
        "\n",
        "imdb_pattern = re.compile('(tt\\d{7,8})')\n",
        "imdb_id = re.findall(imdb_pattern, IMDB_URL_OR_ID)[0]\n",
        "\n",
        "def get_imdb_template(imdb_id):\n",
        "  imdb_url = f'http://www.omdbapi.com/?i={imdb_id}&apikey={api_key}&r=json&plot=short'\n",
        "  #@markdown <center><font size=\"7\" face=\"Arsenal\" color=\"#E9A3C4\">Movie </font><font face=\"Oswald\" color=\"#9FA5F3\" font size=\"5\">឵឵OR឵</font><font size=\"7\" face=\"Arsenal\" color=\"#E9A3C4\"> TV Info:</font></div>\n",
        "  Screenshot = \"\" #@param {type:\"string\"}\n",
        "  Screenshot_2 = \"\" #@param {type:\"string\"}\n",
        "  \n",
        "  if Screenshot != \"\":\n",
        "    screenshot_enabled = True\n",
        "  else:\n",
        "    screenshot_enabled = False\n",
        "\n",
        "  if Screenshot_2 != \"\":\n",
        "    screenshot2_enabled = True\n",
        "  else:\n",
        "    screenshot2_enabled = False\n",
        "\n",
        "  Path = \"\" #@param {type:\"string\"}\n",
        "  if Path == \"\":\n",
        "    mediainfo_enabled = False\n",
        "  else:\n",
        "    mediainfo_enabled = True\n",
        "    tmp = subprocess.Popen('mediainfo --Logfile=/root/.nfo \"{}\"'.format(Path), stdout=subprocess.PIPE, stderr=subprocess.PIPE, shell=True)\n",
        "    time.sleep(5) # Wait 5s for the nfo file to populate properly\n",
        "    with open('/root/.nfo', 'r', encoding='utf-8') as nfo_file:\n",
        "      nfo = nfo_file.readlines()\n",
        "      del nfo[1]\n",
        "      nfo[1] = \"Complete name                            : {}\\n\".format(os.path.basename(Path))\n",
        "      nfo = ''.join(nfo)\n",
        "\n",
        "  Link = \"\" #@param {type:\"string\"}\n",
        "  if Link == \"\":\n",
        "    print(\"You forgot putting in the link to download!\")\n",
        "    sys.exit()\n",
        "\n",
        "  def get_story_line(imdb_id):\n",
        "    url = 'https://www.imdb.com/title/{}'.format(imdb_id)\n",
        "    r = requests.get(url, headers=headers)\n",
        "    data = r.text\n",
        "    soup = BeautifulSoup(data, 'html.parser')\n",
        "    story_line = soup.find_all('div', class_='inline canwrap')[0].find('span').text.lstrip()\n",
        "    return story_line\n",
        "\n",
        "  # Fetch data\n",
        "  with urllib.request.urlopen(imdb_url) as imdb_url:\n",
        "    imdb_data = json.loads(imdb_url.read().decode())\n",
        "\n",
        "  LQ_poster = \"{}\".format(imdb_data['Poster'])\n",
        "  HQ_poster = re.sub(\"[._V1_SX300]{10}\", \"\", LQ_poster)\n",
        "\n",
        "  # Process data\n",
        "  text_dump = \"[align=center][size=x-large]{} ({})[/size]\\n\".format(imdb_data['Title'], imdb_data['Year'])\n",
        "  text_dump += \"\\n\"\n",
        "  text_dump += \"[img=400x1200]{}[/img][/align]\\n\".format(HQ_poster)\n",
        "  text_dump += \"\\n\"\n",
        "  text_dump += \"[size=medium][b][color=#BD9710]IMDb:[/color][/b][/size]\\n\"\n",
        "  text_dump += \"[code]\\n\"\n",
        "  text_dump += \"{}\\n\".format(imdb_data['Genre'])\n",
        "  text_dump += \"\\n\"\n",
        "  text_dump += \"{}\\n\".format(imdb_data['Plot'])\n",
        "  text_dump += \"\\n\"\n",
        "  text_dump += \"https://www.imdb.com/title/{}\\n\".format(imdb_id)\n",
        "  text_dump += \"[/code]\\n\"\n",
        "  if mediainfo_enabled:\n",
        "    text_dump += \"\\n\"\n",
        "    text_dump += \"[color=#83A8CE][size=medium][b]MediaInfo:[/b][/size][/color]\\n\"\n",
        "    text_dump += \"[spoiler][code]\\n\"\n",
        "    text_dump += \"{}\".format(nfo)\n",
        "    text_dump += \"[/code][/spoiler]\\n\"\n",
        "  if screenshot_enabled:\n",
        "    text_dump += \"\\n\"\n",
        "    text_dump += \"[b][color=#D5A6D5][size=medium]Screenshots:[/size][/color][/b]\\n\"\n",
        "    text_dump += \"[spoiler][align=center]\\n\"\n",
        "    text_dump += \"[img]{}[/img]\\n\".format(Screenshot)\n",
        "    if screenshot2_enabled:\n",
        "      text_dump += \"\\n\"\n",
        "      text_dump += \"[img]{}[/img]\\n\".format(Screenshot_2)\n",
        "    text_dump += \"[/align][/spoiler]\\n\"\n",
        "    text_dump += \"\\n\"\n",
        "  text_dump += \"[align=center][color=#39B73C][size=large][font=Trebuchet MS][b]Download Link:[/b][/font][/size][/color]\\n\"\n",
        "  text_dump += \"[size=xx-small]឵឵ ឵[/size]\\n\"\n",
        "  text_dump += \"[hide][url={}]{}[/url][/hide][/align]\".format(Link, Link)\n",
        "\n",
        "  return text_dump\n",
        "\n",
        "print(get_imdb_template(imdb_id))"
      ],
      "execution_count": 0,
      "outputs": []
    },
    {
      "cell_type": "markdown",
      "metadata": {
        "id": "IbBaIDl8hxH4",
        "colab_type": "text"
      },
      "source": [
        "# <font face=\"Archivo Narrow\" size=\"6\">Useful Scripts</font> <font size=\"4\">*(**not** required)*"
      ]
    },
    {
      "cell_type": "markdown",
      "metadata": {
        "colab_type": "text",
        "id": "8qgQqQyD3kvv"
      },
      "source": [
        "#### <font face=\"Rubik\" size=\"4\">» </font><font face=\"Rubik\" size=\"5\">Extract Frames from Video"
      ]
    },
    {
      "cell_type": "code",
      "metadata": {
        "colab_type": "code",
        "cellView": "form",
        "id": "ee5omyu53kv0",
        "colab": {}
      },
      "source": [
        "import os, sys, re, json\n",
        "\n",
        "video_file_path = \"\" #@param {type:\"string\"}\n",
        "\n",
        "output_file_path = re.search(\"^[\\/].+\\/\", video_file_path)\n",
        "output_file_path_raw = output_file_path.group(0)\n",
        "delsplit = re.search(\"\\/(?:.(?!\\/))+$\", video_file_path)\n",
        "filename = re.sub(\"^[\\/]\", \"\", delsplit.group(0))\n",
        "filename_raw = re.sub(\".{4}$\", \"\", filename)\n",
        "file_extension = re.search(\".{3}$\", filename)\n",
        "file_extension_raw = file_extension.group(0)\n",
        "\n",
        "os.environ['inputFile'] = video_file_path\n",
        "os.environ['outputPath'] = output_file_path_raw\n",
        "os.environ['fileName'] = filename_raw\n",
        "os.environ['fileExtension'] = file_extension_raw\n",
        "\n",
        "%cd \"/content\"\n",
        "\n",
        "!mkdir -p \"/content/frames\"\n",
        "!ffmpeg -hide_banner -ss 01:50.0 -i \"$inputFile\" -vframes 1 -q:v 2 -an -sn -y \"/content/frames/frame1.jpg\"\n",
        "!ffmpeg -hide_banner -ss 13:20.0 -i \"$inputFile\" -vframes 1 -q:v 2 -an -sn -y \"/content/frames/frame2.jpg\"\n",
        "\n",
        "%cd \"/content/frames\"\n",
        "\n",
        "from IPython.display import clear_output\n",
        "\n",
        "for i in range(10):\n",
        "    clear_output(wait=True)\n",
        "    print(\"Uploading Frames...\")\n",
        "\n",
        "!curl -F \"reqtype=fileupload\" -F \"fileToUpload=@frame1.jpg\" https://catbox.moe/user/api.php\n",
        "print()\n",
        "!curl -F \"reqtype=fileupload\" -F \"fileToUpload=@frame2.jpg\" https://catbox.moe/user/api.php"
      ],
      "execution_count": 0,
      "outputs": []
    },
    {
      "cell_type": "markdown",
      "metadata": {
        "id": "tozwpAhhnm69",
        "colab_type": "text"
      },
      "source": [
        "#### <font face=\"Rubik\" size=\"4\">» </font><font face=\"Rubik\" size=\"5\">MediaInfo</font>"
      ]
    },
    {
      "cell_type": "code",
      "metadata": {
        "id": "NTULRguzu0b0",
        "colab_type": "code",
        "cellView": "form",
        "colab": {}
      },
      "source": [
        "path = \"\" #@param {type:\"string\"}\n",
        "save_txt = False #@param {type:\"boolean\"}\n",
        "import os, uuid, re, IPython\n",
        "import ipywidgets as widgets\n",
        "import time\n",
        "\n",
        "from glob import glob\n",
        "from IPython.display import HTML, clear_output\n",
        "from google.colab import output, drive\n",
        "\n",
        "def mediainfo():\n",
        "  display(HTML(\"<br>\"))\n",
        "#   print(path.split(\"/\")[::-1][0])\n",
        "  display(HTML(\"<br>\"))\n",
        "#   media = !mediainfo \"$path\"\n",
        "#   media = \"\\n\".join(media).replace(os.path.dirname(path)+\"/\", \"\")\n",
        "  get_ipython().system_raw(\"\"\"mediainfo --LogFile=\"/root/.nfo\" \"$path\" \"\"\")\n",
        "  with open('/root/.nfo', 'r') as file:\n",
        "    media = file.read()\n",
        "    media = media.replace(os.path.dirname(path)+\"/\", \"\")\n",
        "  print(media)\n",
        "  get_ipython().system_raw(\"rm -f '/root/.nfo'\")\n",
        "  \n",
        "  if save_txt:\n",
        "    txt = path.rpartition('.')[0] + \".txt\"\n",
        "    if os.path.exists(txt):\n",
        "      get_ipython().system_raw(\"rm -f '$txt'\")\n",
        "    !curl -s https://pastebin.com/raw/TApKLQfM -o \"$txt\"\n",
        "    with open(txt, 'a+') as file:\n",
        "      file.write(\"\\n\\n\")\n",
        "      file.write(media)\n",
        "\n",
        "while not os.path.exists(\"/content/drive\"):\n",
        "  try:\n",
        "    drive.mount(\"/content/drive\")\n",
        "    clear_output(wait=True)\n",
        "  except:\n",
        "    clear_output()\n",
        "    \n",
        "if not os.path.exists(\"/usr/bin/mediainfo\"):\n",
        "  get_ipython().system_raw(\"apt-get install mediainfo\")\n",
        "  \n",
        "mediainfo()"
      ],
      "execution_count": 0,
      "outputs": []
    }
  ]
}